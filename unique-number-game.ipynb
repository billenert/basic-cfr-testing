{
 "cells": [
  {
   "cell_type": "code",
   "execution_count": 30,
   "metadata": {},
   "outputs": [],
   "source": [
    "import numpy as np\n",
    "import pandas as pd\n",
    "import matplotlib.pyplot as plt\n",
    "import typing"
   ]
  },
  {
   "cell_type": "markdown",
   "metadata": {},
   "source": [
    "# The Setup"
   ]
  },
  {
   "cell_type": "markdown",
   "metadata": {},
   "source": [
    "There should only be one information set for each player, because they can always choose any number 0-49 afterwards."
   ]
  },
  {
   "cell_type": "code",
   "execution_count": 69,
   "metadata": {},
   "outputs": [],
   "source": [
    "# init params and storage\n",
    "iterations = 3000\n",
    "A = 30"
   ]
  },
  {
   "cell_type": "markdown",
   "metadata": {},
   "source": [
    "Precomputing and Utility Calculations"
   ]
  },
  {
   "cell_type": "code",
   "execution_count": 70,
   "metadata": {},
   "outputs": [],
   "source": [
    "def util_terminal(player_one: int, player_two: int, player_three: int) -> int:\n",
    "    '''\n",
    "    Gives the utility function of player one.\n",
    "\n",
    "    Example: util_terminal(1, 2, 3) -> 1\n",
    "    '''\n",
    "\n",
    "    # All same\n",
    "    if(player_one == player_two == player_three):\n",
    "        # return 0, 0, 0\n",
    "        return 0\n",
    "    \n",
    "    # two same\n",
    "    if(player_one == player_two and player_two != player_three):\n",
    "        # return 0, 0, 1\n",
    "        return 0\n",
    "    if(player_one == player_three and player_two != player_three):\n",
    "        # return 0, 1, 0\n",
    "        return 0\n",
    "    if(player_three == player_two and player_two != player_one):\n",
    "        # return 1, 0, 0\n",
    "        return 1\n",
    "    \n",
    "    # all different\n",
    "    min_score = min(player_one, player_two, player_three)\n",
    "    if(player_one == min_score): \n",
    "        # return 1, 0, 0\n",
    "        return 1\n",
    "    if(player_two == min_score): \n",
    "        # return 0, 1, 0\n",
    "        return 0\n",
    "    if(player_three == min_score): \n",
    "        # return 0, 0, 1\n",
    "        return 0\n",
    "\n",
    "    # these should be all the cases but if not raise exception\n",
    "    raise Exception(f\"Something went wrong when trying to determine a winner. {player_one}, {player_two}, {player_three}.\")    \n",
    "\n",
    "util_matrix = np.zeros((A, A, A))\n",
    "\n",
    "for i in range(A):\n",
    "    for j in range(A):\n",
    "        for k in range(A):\n",
    "            util_matrix[i, j, k] = util_terminal(i, j, k)\n",
    "\n",
    "def payoff_vector(strat: np.ndarray) -> np.ndarray:\n",
    "    ''' \n",
    "    Calculates the payoff vector given two other opponents are playing the same strategy.\n",
    "    '''\n",
    "    second = strat.reshape(1, A, 1)\n",
    "    third = strat.reshape(1, 1, A)\n",
    "    return np.sum(util_matrix * second * third, axis=(1, 2))"
   ]
  },
  {
   "cell_type": "markdown",
   "metadata": {},
   "source": [
    "$$u_i(\\sigma, I) = \\frac{\\sum_{h \\in I, h' \\in Z} \\pi_{-i}^{\\sigma}(h) \\pi_{i}^{\\sigma}(h, h') u_i(h')}{\\pi_{-i}^{\\sigma}(I)}.$$\n",
    "$$\n",
    "R_i^T(I,a)\n",
    "= \\frac{1}{T}\n",
    "  \\sum_{t=1}^T\n",
    "    \\pi_{-i}^{\\sigma^t}(I)\\,\n",
    "    \\bigl(\n",
    "      u_i\\bigl(\\sigma^t_{I\\to a},I\\bigr)\n",
    "      - u_i(\\sigma^t,I)\n",
    "    \\bigr).\n",
    "$$\n",
    "$$\n",
    "\\sigma_i^{T+1}(I)(a) \\;=\\;\n",
    "\\begin{cases}\n",
    "\\dfrac{R_i^{T,+}(I,a)}{\\sum\\limits_{a'\\in A(I)} R_i^{T,+}(I,a')}\n",
    "&\\text{if } \\displaystyle\\sum_{a'\\in A(I)} R_i^{T,+}(I,a') > 0, \\\\[1em]\n",
    "\\dfrac{1}{|A(I)|}\n",
    "&\\text{otherwise.}\n",
    "\\end{cases}\n",
    "$$\n"
   ]
  },
  {
   "cell_type": "code",
   "execution_count": 74,
   "metadata": {},
   "outputs": [],
   "source": [
    "strat = np.zeros(A)\n",
    "strat[0] = 0.5346\n",
    "strat[1] = 0.3434\n",
    "strat[2] = 0.1139\n",
    "strat[3] = 0.0082\n",
    "cum_regret = np.zeros(A)\n",
    "global_regret = []\n",
    "strat_history = []\n",
    "\n",
    "for iteration in range(0, iterations):\n",
    "    strat_history.append(strat.copy())\n",
    "\n",
    "    payoff = payoff_vector(strat)\n",
    "    original_payoff = strat.dot(payoff)\n",
    "    \n",
    "    # technically we would dot payoff with a 1s matrix but that's like *= 1\n",
    "    instant_regret = payoff - original_payoff\n",
    "    cum_regret += instant_regret\n",
    "\n",
    "    positive_regret = np.maximum(cum_regret, 0.0)\n",
    "    normalizing = positive_regret.sum()\n",
    "    if(normalizing > 0.0):\n",
    "        strat = positive_regret/normalizing\n",
    "    else:\n",
    "        strat = np.full(A, 1.0/A)\n",
    "    global_regret.append(normalizing)"
   ]
  },
  {
   "cell_type": "code",
   "execution_count": 75,
   "metadata": {},
   "outputs": [
    {
     "data": {
      "text/plain": [
       "[<matplotlib.lines.Line2D at 0x16367a0c0>]"
      ]
     },
     "execution_count": 75,
     "metadata": {},
     "output_type": "execute_result"
    },
    {
     "data": {
      "image/png": "[encoded data removed]",
      "text/plain": [
       "<Figure size 640x480 with 1 Axes>"
      ]
     },
     "metadata": {},
     "output_type": "display_data"
    }
   ],
   "source": [
    "plt.plot(global_regret)"
   ]
  },
  {
   "cell_type": "code",
   "execution_count": 76,
   "metadata": {},
   "outputs": [
    {
     "name": "stdout",
     "output_type": "stream",
     "text": [
      "[0.45631106 0.24809144 0.13488496 0.07333652 0.03987522 0.02168806\n",
      " 0.01181454 0.00648339 0.00406857 0.00344626 0.         0.\n",
      " 0.         0.         0.         0.         0.         0.\n",
      " 0.         0.         0.         0.         0.         0.\n",
      " 0.         0.         0.         0.         0.         0.        ]\n"
     ]
    }
   ],
   "source": [
    "print(strat_history[-1])"
   ]
  }
 ],
 "metadata": {
  "kernelspec": {
   "display_name": "base",
   "language": "python",
   "name": "python3"
  },
  "language_info": {
   "codemirror_mode": {
    "name": "ipython",
    "version": 3
   },
   "file_extension": ".py",
   "mimetype": "text/x-python",
   "name": "python",
   "nbconvert_exporter": "python",
   "pygments_lexer": "ipython3",
   "version": "3.12.2"
  }
 },
 "nbformat": 4,
 "nbformat_minor": 2
}
